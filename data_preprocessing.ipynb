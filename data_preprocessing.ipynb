{
 "cells": [
  {
   "cell_type": "code",
   "execution_count": 1,
   "metadata": {},
   "outputs": [],
   "source": [
    "import numpy as np\n",
    "import librosa\n",
    "import librosa.display\n",
    "import matplotlib.pyplot as plt\n",
    "import os\n",
    "\n",
    "%matplotlib inline\n",
    "import IPython.display as ipd"
   ]
  },
  {
   "cell_type": "code",
   "execution_count": 2,
   "metadata": {},
   "outputs": [],
   "source": [
    "SPEECH_DATA_PATH = 'D:/musan/musan/speech/librivox'\n",
    "NOISE1_DATA_PATH = 'D:/musan/musan/noise/sound-bible'\n",
    "NOISE2_DATA_PATH = 'D:/musan/musan/noise/free-sound'\n",
    "MUSIC_DATA_PATH = 'D:/musan/musan/music'\n",
    "MUSIC_FOLDERS = ['fma', 'fma-western-art', 'hd-classical', 'rfm']\n",
    "TARGET_FOLDER = 'D:/musan/preprocessed'\n",
    "NUM_VALID_FILES = 20\n",
    "\n",
    "SR = 16000\n",
    "SNR_RATES = [-10, -5, 0, 5, 10, 15, 20]\n",
    "\n",
    "CUT_OFF = 4000\n",
    "FFT_SIZE = 512\n",
    "FFT_STEP = SR / FFT_SIZE\n",
    "FRAME_SIZE = FFT_SIZE # 32ms for SR = 16kHz\n",
    "FRAME_OFFSET =  128\n",
    "VOICE_THRESHOLD = 7\n",
    "\n",
    "N_HARM = 14\n",
    "N_CAND = 100\n",
    "F0_RANGE = (70, 350)"
   ]
  },
  {
   "cell_type": "markdown",
   "metadata": {},
   "source": [
    "Dataset: https://arxiv.org/pdf/1510.08484.pdf"
   ]
  },
  {
   "cell_type": "markdown",
   "metadata": {},
   "source": [
    "## Setup SNR\n",
    "\n",
    "\\begin{equation}\n",
    "SNR = 20 * log_{10}\\left(\\frac{A}{k*A_n}\\right) => k=10^{log_{10}\\left(\\frac{A}{A_n}\\right)-\\frac{SNR}{20}}\n",
    "\\end{equation}\n",
    "\n",
    "Since the signal power ($A$ and $A_n$) is a quadratic value, the coefficient $k$ also has a quadratic value. Therefore, the actual value of the coefficient $k$ for multiply the noise signal in order to obtain the given $SNR$ is calculated by the formula:\n",
    "\n",
    "\\begin{equation}\n",
    "k=10^{\\frac{log_{10}\\left(\\frac{A}{A_n}\\right)-\\frac{SNR}{20}}{2}}\n",
    "\\end{equation}"
   ]
  },
  {
   "cell_type": "code",
   "execution_count": 3,
   "metadata": {},
   "outputs": [],
   "source": [
    "def SNR(signal, noise):\n",
    "    A = np.mean(signal ** 2)\n",
    "    A_noise = np.mean(noise ** 2)\n",
    "    snr = 20 * np.log10(A / A_noise)\n",
    "    \n",
    "    return snr"
   ]
  },
  {
   "cell_type": "code",
   "execution_count": 4,
   "metadata": {},
   "outputs": [],
   "source": [
    "def snr_coefficient(target_snr, signal, noise):\n",
    "    A = np.mean(signal ** 2)\n",
    "    A_noise = np.mean(noise ** 2)\n",
    "    \n",
    "    k = 10 ** ((np.log10(A / A_noise) - target_snr / 20) / 2)\n",
    "    return k"
   ]
  },
  {
   "cell_type": "code",
   "execution_count": 5,
   "metadata": {},
   "outputs": [],
   "source": [
    "def mix_sig_noise(signal, noise, target_snr):\n",
    "    k = snr_coefficient(target_snr, signal, noise)\n",
    "    scaled_noise = k * noise\n",
    "    \n",
    "    if len(scaled_noise) <= len(signal):\n",
    "        n_repeats = len(signal) // len(scaled_noise) + 1\n",
    "        scaled_noise = np.tile(scaled_noise, n_repeats)\n",
    "        \n",
    "    noisy_signal = signal + scaled_noise[:len(signal)]\n",
    "    noisy_signal[noisy_signal > 1.] = 1.\n",
    "    noisy_signal[noisy_signal < -1.] = -1.\n",
    "    return noisy_signal"
   ]
  },
  {
   "cell_type": "code",
   "execution_count": 6,
   "metadata": {},
   "outputs": [],
   "source": [
    "y, _ = librosa.load(os.path.join(SPEECH_DATA_PATH, 'speech-librivox-0013.wav'), sr=SR)\n",
    "# ipd.Audio(y, rate=SR)"
   ]
  },
  {
   "cell_type": "code",
   "execution_count": 7,
   "metadata": {},
   "outputs": [],
   "source": [
    "y_noise, _ = librosa.load(os.path.join(NOISE1_DATA_PATH, 'noise-sound-bible-0009.wav'), sr=SR)\n",
    "# ipd.Audio(y_noise, rate=SR)"
   ]
  },
  {
   "cell_type": "code",
   "execution_count": 8,
   "metadata": {},
   "outputs": [
    {
     "name": "stdout",
     "output_type": "stream",
     "text": [
      "Original SNR: -25.593, coefficient: 0.408, target SNR: -10.000\n"
     ]
    }
   ],
   "source": [
    "original_snr = SNR(y, y_noise)\n",
    "\n",
    "target_snr = -10\n",
    "\n",
    "k = snr_coefficient(target_snr, y, y_noise)\n",
    "scaled_y_noise = k * y_noise\n",
    "\n",
    "snr = SNR(y, scaled_y_noise)\n",
    "\n",
    "print('Original SNR: %.3f, coefficient: %.3f, target SNR: %.3f' % (original_snr, k, snr))"
   ]
  },
  {
   "cell_type": "code",
   "execution_count": 9,
   "metadata": {},
   "outputs": [],
   "source": [
    "noisy_signal = mix_sig_noise(y, y_noise, target_snr)\n",
    "# ipd.Audio(noisy_signal, rate=SR)"
   ]
  },
  {
   "cell_type": "markdown",
   "metadata": {},
   "source": [
    "## Data loading"
   ]
  },
  {
   "cell_type": "code",
   "execution_count": 10,
   "metadata": {},
   "outputs": [],
   "source": [
    "def get_wav_files(path):\n",
    "    filenames = []\n",
    "    for f in os.listdir(path):\n",
    "        if os.path.isfile(os.path.join(path, f)) and f.endswith('.wav'):\n",
    "            filenames.append(os.path.join(path, f))\n",
    "            \n",
    "    return filenames\n",
    "\n",
    "def get_file_size(path):\n",
    "    y, _ = librosa.load(path, sr=SR)\n",
    "    if y.max() > 1:\n",
    "        print(path, y.max())\n",
    "    return len(y) / SR"
   ]
  },
  {
   "cell_type": "code",
   "execution_count": 11,
   "metadata": {},
   "outputs": [],
   "source": [
    "speech_filenames = get_wav_files(SPEECH_DATA_PATH)\n",
    "\n",
    "noisy_filenames = get_wav_files(NOISE1_DATA_PATH)\n",
    "noisy_filenames += get_wav_files(NOISE2_DATA_PATH)\n",
    "# noisy_filenames += get_wav_files(os.path.join(MUSIC_DATA_PATH, MUSIC_FOLDERS[0]))\n",
    "# noisy_filenames += get_wav_files(os.path.join(MUSIC_DATA_PATH, MUSIC_FOLDERS[1]))\n",
    "# noisy_filenames += get_wav_files(os.path.join(MUSIC_DATA_PATH, MUSIC_FOLDERS[2]))\n",
    "# noisy_filenames += get_wav_files(os.path.join(MUSIC_DATA_PATH, MUSIC_FOLDERS[3]))"
   ]
  },
  {
   "cell_type": "code",
   "execution_count": 9,
   "metadata": {},
   "outputs": [
    {
     "name": "stdout",
     "output_type": "stream",
     "text": [
      "Total 173 speech files with 20.4 hours of records\n",
      "Total 930 files with noise (6.2 hours)\n"
     ]
    }
   ],
   "source": [
    "file_sizes = [get_file_size(f) for f in speech_filenames]\n",
    "total_size = sum(file_sizes)\n",
    "\n",
    "print('Total %i speech files with %.1f hours of records' % (len(speech_filenames), total_size/60/60))\n",
    "\n",
    "file_sizes = [get_file_size(f) for f in noisy_filenames]\n",
    "total_size = sum(file_sizes)\n",
    "\n",
    "print('Total %i files with noise (%.1f hours)' % (len(noisy_filenames), total_size/60/60))"
   ]
  },
  {
   "cell_type": "markdown",
   "metadata": {},
   "source": [
    "## Features extraction"
   ]
  },
  {
   "cell_type": "code",
   "execution_count": 12,
   "metadata": {},
   "outputs": [],
   "source": [
    "def get_frames(signal):\n",
    "    grid_smp = np.arange(0, signal.shape[0] - FRAME_SIZE, FRAME_OFFSET)\n",
    "    frames = np.zeros(shape=(grid_smp.shape[0], FRAME_SIZE))\n",
    "    \n",
    "    for i in range(grid_smp.shape[0]):\n",
    "        l_i = grid_smp[i]\n",
    "        r_i = l_i + FRAME_SIZE\n",
    "        frames[i, :] = signal[l_i:r_i]\n",
    "    \n",
    "    return frames"
   ]
  },
  {
   "cell_type": "code",
   "execution_count": 13,
   "metadata": {},
   "outputs": [],
   "source": [
    "def get_spectr(frames):\n",
    "    window = np.hamming(frames.shape[1])\n",
    "    window = np.reshape(window, (1, frames.shape[1]))\n",
    "    weighted_frames = frames * window\n",
    "    \n",
    "    spectr = np.fft.fft(weighted_frames, n=FFT_SIZE, axis=1)\n",
    "    spectr = spectr / FFT_SIZE * 2\n",
    "    spectr_log = np.log10(abs(spectr)) \n",
    "    \n",
    "    n_env = int(CUT_OFF // FFT_STEP)\n",
    "    spectr_log = spectr_log[:, :n_env]\n",
    "    \n",
    "    return spectr_log"
   ]
  },
  {
   "cell_type": "code",
   "execution_count": 14,
   "metadata": {},
   "outputs": [],
   "source": [
    "def get_harmonics(spectr):\n",
    "    fft_inds = np.zeros(shape=(N_HARM, N_CAND), dtype=np.int32)\n",
    "    cands = np.linspace(F0_RANGE[0], F0_RANGE[1], N_CAND)\n",
    "    \n",
    "    for i in range(N_CAND):\n",
    "        indices = np.round((1 + np.arange(0, N_HARM)) / 2 * cands[i] / FFT_STEP + 1)\n",
    "        fft_inds[:, i] = indices.astype(np.int32)\n",
    "\n",
    "    features = spectr[:, fft_inds]\n",
    "    features = np.transpose(features, axes=(0, 2, 1))\n",
    "#     features = features[..., np.newaxis]\n",
    "\n",
    "    return features"
   ]
  },
  {
   "cell_type": "code",
   "execution_count": 15,
   "metadata": {},
   "outputs": [],
   "source": [
    "def get_features(signal):\n",
    "    frames = get_frames(signal)\n",
    "    spectr = get_spectr(frames)\n",
    "    features = get_harmonics(spectr)\n",
    "    \n",
    "    return features.astype(np.float32)"
   ]
  },
  {
   "cell_type": "code",
   "execution_count": 16,
   "metadata": {},
   "outputs": [],
   "source": [
    "def get_labels(signal):\n",
    "    frames = get_frames(signal)\n",
    "    frames = np.sum(np.abs(frames), axis=1)\n",
    "    labels = (frames > VOICE_THRESHOLD).astype(np.float32)\n",
    "    \n",
    "    return labels"
   ]
  },
  {
   "cell_type": "code",
   "execution_count": 17,
   "metadata": {},
   "outputs": [],
   "source": [
    "signal, _ = librosa.load(speech_filenames[42], sr=SR)\n",
    "signal.shape[0] / SR\n",
    "labels = get_labels(signal[:200000])\n"
   ]
  },
  {
   "cell_type": "code",
   "execution_count": 18,
   "metadata": {},
   "outputs": [
    {
     "data": {
      "text/plain": [
       "(199808, 5323128)"
      ]
     },
     "execution_count": 18,
     "metadata": {},
     "output_type": "execute_result"
    }
   ],
   "source": [
    "preprocessed_labels = []\n",
    "for label in labels:\n",
    "    preprocessed_labels += [label] * FRAME_OFFSET\n",
    "\n",
    "labels.shape[0] * FRAME_OFFSET + 256, signal.shape[0]"
   ]
  },
  {
   "cell_type": "code",
   "execution_count": 19,
   "metadata": {},
   "outputs": [
    {
     "data": {
      "text/plain": [
       "[<matplotlib.lines.Line2D at 0x1f03d3c4b00>]"
      ]
     },
     "execution_count": 19,
     "metadata": {},
     "output_type": "execute_result"
    },
    {
     "data": {
      "image/png": "[encoded data removed]",
      "text/plain": [
       "<matplotlib.figure.Figure at 0x1f03c31e860>"
      ]
     },
     "metadata": {},
     "output_type": "display_data"
    }
   ],
   "source": [
    "plt.figure(figsize=(10, 6))\n",
    "plt.subplot(2, 1, 1)\n",
    "plt.plot(signal[:200000])\n",
    "plt.subplot(2, 1, 2)\n",
    "plt.plot(preprocessed_labels)"
   ]
  },
  {
   "cell_type": "code",
   "execution_count": 20,
   "metadata": {},
   "outputs": [],
   "source": [
    "np.random.shuffle(speech_filenames)\n",
    "train_filenames = speech_filenames[NUM_VALID_FILES:]\n",
    "valid_filenames = speech_filenames[:NUM_VALID_FILES]"
   ]
  },
  {
   "cell_type": "code",
   "execution_count": 21,
   "metadata": {},
   "outputs": [
    {
     "name": "stdout",
     "output_type": "stream",
     "text": [
      "153/153"
     ]
    }
   ],
   "source": [
    "for i, speech_filename in enumerate(train_filenames):\n",
    "    print('\\r%i/%i' % (i+1, len(train_filenames)), end='')\n",
    "    signal, _ = librosa.load(speech_filename, sr=SR)\n",
    "    \n",
    "    noise_filename = np.random.choice(noisy_filenames)\n",
    "    noise, _ = librosa.load(noise_filename, sr=SR)\n",
    "    \n",
    "    target_snr = np.random.choice(SNR_RATES)\n",
    "    noisy_signal = mix_sig_noise(signal, noise, target_snr)\n",
    "    \n",
    "    features = get_features(noisy_signal)\n",
    "    labels = get_labels(signal)\n",
    "        \n",
    "    target_filename = os.path.join(TARGET_FOLDER, 'noisy_speech_v2', 'train', os.path.basename(speech_filename))\n",
    "    np.savez(target_filename, features=features, labels=labels)\n",
    "    \n",
    "    k = snr_coefficient(target_snr, signal, noise)\n",
    "    scaled_noise = k * noise\n",
    "    noise_features = get_features(scaled_noise)\n",
    "    noise_labels = np.zeros(shape=(noise_features.shape[0]), dtype=np.float32)\n",
    "    target_filename = os.path.join(TARGET_FOLDER, 'noisy_speech_v2', 'train', os.path.basename(noise_filename))\n",
    "    np.savez(target_filename, features=noise_features, labels=noise_labels)"
   ]
  },
  {
   "cell_type": "code",
   "execution_count": 23,
   "metadata": {},
   "outputs": [
    {
     "name": "stdout",
     "output_type": "stream",
     "text": [
      "20/20"
     ]
    }
   ],
   "source": [
    "for i, speech_filename in enumerate(valid_filenames):\n",
    "    print('\\r%i/%i' % (i+1, len(valid_filenames)), end='')\n",
    "    signal, _ = librosa.load(speech_filename, sr=SR)\n",
    "    \n",
    "    noise_filename = np.random.choice(noisy_filenames)\n",
    "    noise, _ = librosa.load(noise_filename, sr=SR)\n",
    "    \n",
    "    target_snr = np.random.choice(SNR_RATES)\n",
    "    noisy_signal = mix_sig_noise(signal, noise, target_snr)\n",
    "    \n",
    "    features = get_features(noisy_signal)\n",
    "    labels = get_labels(signal)\n",
    "        \n",
    "    target_filename = os.path.join(TARGET_FOLDER, 'noisy_speech_v2', 'valid', os.path.basename(speech_filename))\n",
    "    np.savez(target_filename, features=features, labels=labels)\n",
    "    \n",
    "    k = snr_coefficient(target_snr, signal, noise)\n",
    "    scaled_noise = k * noise\n",
    "    noise_features = get_features(scaled_noise)\n",
    "    noise_labels = np.zeros(shape=(noise_features.shape[0]), dtype=np.float32)\n",
    "    target_filename = os.path.join(TARGET_FOLDER, 'noisy_speech_v2', 'valid', os.path.basename(noise_filename))\n",
    "    np.savez(target_filename, features=noise_features, labels=noise_labels)"
   ]
  },
  {
   "cell_type": "markdown",
   "metadata": {},
   "source": [
    "## TFRecords"
   ]
  },
  {
   "cell_type": "code",
   "execution_count": 24,
   "metadata": {},
   "outputs": [
    {
     "name": "stderr",
     "output_type": "stream",
     "text": [
      "c:\\soft\\python36\\lib\\site-packages\\h5py\\__init__.py:36: FutureWarning: Conversion of the second argument of issubdtype from `float` to `np.floating` is deprecated. In future, it will be treated as `np.float64 == np.dtype(float).type`.\n",
      "  from ._conv import register_converters as _register_converters\n"
     ]
    }
   ],
   "source": [
    "import tensorflow as tf\n",
    "\n",
    "def _float_feature(value):\n",
    "    return tf.train.Feature(float_list=tf.train.FloatList(value=[value]))"
   ]
  },
  {
   "cell_type": "code",
   "execution_count": 25,
   "metadata": {},
   "outputs": [
    {
     "name": "stdout",
     "output_type": "stream",
     "text": [
      "1/153"
     ]
    },
    {
     "ename": "SystemError",
     "evalue": "<class 'type'> returned a result with an error set",
     "output_type": "error",
     "traceback": [
      "\u001b[1;31m---------------------------------------------------------------------------\u001b[0m",
      "\u001b[1;31mTypeError\u001b[0m                                 Traceback (most recent call last)",
      "\u001b[1;31mTypeError\u001b[0m: only size-1 arrays can be converted to Python scalars",
      "\nThe above exception was the direct cause of the following exception:\n",
      "\u001b[1;31mSystemError\u001b[0m                               Traceback (most recent call last)",
      "\u001b[1;32m<ipython-input-25-3a59642fff4e>\u001b[0m in \u001b[0;36m<module>\u001b[1;34m()\u001b[0m\n\u001b[0;32m     16\u001b[0m     \u001b[0mlabels\u001b[0m \u001b[1;33m=\u001b[0m \u001b[0mget_labels\u001b[0m\u001b[1;33m(\u001b[0m\u001b[0msignal\u001b[0m\u001b[1;33m)\u001b[0m\u001b[1;33m\u001b[0m\u001b[0m\n\u001b[0;32m     17\u001b[0m \u001b[1;33m\u001b[0m\u001b[0m\n\u001b[1;32m---> 18\u001b[1;33m     record = {'labels': _float_feature(labels),\n\u001b[0m\u001b[0;32m     19\u001b[0m                'features': _float_feature(features) }\n\u001b[0;32m     20\u001b[0m     \u001b[0mexample\u001b[0m \u001b[1;33m=\u001b[0m \u001b[0mtf\u001b[0m\u001b[1;33m.\u001b[0m\u001b[0mtrain\u001b[0m\u001b[1;33m.\u001b[0m\u001b[0mExample\u001b[0m\u001b[1;33m(\u001b[0m\u001b[0mfeatures\u001b[0m\u001b[1;33m=\u001b[0m\u001b[0mtf\u001b[0m\u001b[1;33m.\u001b[0m\u001b[0mtrain\u001b[0m\u001b[1;33m.\u001b[0m\u001b[0mFeatures\u001b[0m\u001b[1;33m(\u001b[0m\u001b[0mfeature\u001b[0m\u001b[1;33m=\u001b[0m\u001b[0mrecord\u001b[0m\u001b[1;33m)\u001b[0m\u001b[1;33m)\u001b[0m\u001b[1;33m\u001b[0m\u001b[0m\n",
      "\u001b[1;32m<ipython-input-24-8b7f9d4390a0>\u001b[0m in \u001b[0;36m_float_feature\u001b[1;34m(value)\u001b[0m\n\u001b[0;32m      2\u001b[0m \u001b[1;33m\u001b[0m\u001b[0m\n\u001b[0;32m      3\u001b[0m \u001b[1;32mdef\u001b[0m \u001b[0m_float_feature\u001b[0m\u001b[1;33m(\u001b[0m\u001b[0mvalue\u001b[0m\u001b[1;33m)\u001b[0m\u001b[1;33m:\u001b[0m\u001b[1;33m\u001b[0m\u001b[0m\n\u001b[1;32m----> 4\u001b[1;33m     \u001b[1;32mreturn\u001b[0m \u001b[0mtf\u001b[0m\u001b[1;33m.\u001b[0m\u001b[0mtrain\u001b[0m\u001b[1;33m.\u001b[0m\u001b[0mFeature\u001b[0m\u001b[1;33m(\u001b[0m\u001b[0mfloat_list\u001b[0m\u001b[1;33m=\u001b[0m\u001b[0mtf\u001b[0m\u001b[1;33m.\u001b[0m\u001b[0mtrain\u001b[0m\u001b[1;33m.\u001b[0m\u001b[0mFloatList\u001b[0m\u001b[1;33m(\u001b[0m\u001b[0mvalue\u001b[0m\u001b[1;33m=\u001b[0m\u001b[1;33m[\u001b[0m\u001b[0mvalue\u001b[0m\u001b[1;33m]\u001b[0m\u001b[1;33m)\u001b[0m\u001b[1;33m)\u001b[0m\u001b[1;33m\u001b[0m\u001b[0m\n\u001b[0m",
      "\u001b[1;32mc:\\soft\\python36\\lib\\site-packages\\numpy\\core\\arrayprint.py\u001b[0m in \u001b[0;36marray_repr\u001b[1;34m(arr, max_line_width, precision, suppress_small)\u001b[0m\n\u001b[0;32m   1374\u001b[0m         \u001b[0mmax_line_width\u001b[0m \u001b[1;33m=\u001b[0m \u001b[0m_format_options\u001b[0m\u001b[1;33m[\u001b[0m\u001b[1;34m'linewidth'\u001b[0m\u001b[1;33m]\u001b[0m\u001b[1;33m\u001b[0m\u001b[0m\n\u001b[0;32m   1375\u001b[0m \u001b[1;33m\u001b[0m\u001b[0m\n\u001b[1;32m-> 1376\u001b[1;33m     \u001b[1;32mif\u001b[0m \u001b[0mtype\u001b[0m\u001b[1;33m(\u001b[0m\u001b[0marr\u001b[0m\u001b[1;33m)\u001b[0m \u001b[1;32mis\u001b[0m \u001b[1;32mnot\u001b[0m \u001b[0mndarray\u001b[0m\u001b[1;33m:\u001b[0m\u001b[1;33m\u001b[0m\u001b[0m\n\u001b[0m\u001b[0;32m   1377\u001b[0m         \u001b[0mclass_name\u001b[0m \u001b[1;33m=\u001b[0m \u001b[0mtype\u001b[0m\u001b[1;33m(\u001b[0m\u001b[0marr\u001b[0m\u001b[1;33m)\u001b[0m\u001b[1;33m.\u001b[0m\u001b[0m__name__\u001b[0m\u001b[1;33m\u001b[0m\u001b[0m\n\u001b[0;32m   1378\u001b[0m     \u001b[1;32melse\u001b[0m\u001b[1;33m:\u001b[0m\u001b[1;33m\u001b[0m\u001b[0m\n",
      "\u001b[1;31mSystemError\u001b[0m: <class 'type'> returned a result with an error set"
     ]
    }
   ],
   "source": [
    "tfrecord_filename = os.path.join(TARGET_FOLDER, 'noisy_speech_v2', 'train.tfrecords')\n",
    "\n",
    "writer = tf.python_io.TFRecordWriter(tfrecord_filename)\n",
    "\n",
    "for i, speech_filename in enumerate(train_filenames):\n",
    "    print('\\r%i/%i' % (i+1, len(train_filenames)), end='')\n",
    "    signal, _ = librosa.load(speech_filename, sr=SR)\n",
    "    \n",
    "    noise_filename = np.random.choice(noisy_filenames)\n",
    "    noise, _ = librosa.load(noise_filename, sr=SR)\n",
    "    \n",
    "    target_snr = np.random.choice(SNR_RATES)\n",
    "    noisy_signal = mix_sig_noise(signal, noise, target_snr)\n",
    "    \n",
    "    features = get_features(noisy_signal)\n",
    "    labels = get_labels(signal)\n",
    "      \n",
    "    record = {'labels': _float_feature(labels),\n",
    "               'features': _float_feature(features) }\n",
    "    example = tf.train.Example(features=tf.train.Features(feature=record))\n",
    "    writer.write(example.SerializeToString())\n",
    "    \n",
    "    k = snr_coefficient(target_snr, signal, noise)\n",
    "    scaled_noise = k * noise\n",
    "    noise_features = get_features(scaled_noise)\n",
    "    noise_labels = np.zeros(shape=(noise_features.shape[0]), dtype=np.float32)\n",
    "    record = {'labels': _float_feature(noise_labels),\n",
    "               'features': _float_feature(noise_features) }\n",
    "    example = tf.train.Example(features=tf.train.Features(feature=record))\n",
    "    writer.write(example.SerializeToString())\n",
    "\n",
    "writer.close()"
   ]
  },
  {
   "cell_type": "code",
   "execution_count": null,
   "metadata": {},
   "outputs": [],
   "source": []
  },
  {
   "cell_type": "markdown",
   "metadata": {},
   "source": [
    "## Music/Speech dataset"
   ]
  },
  {
   "cell_type": "code",
   "execution_count": 16,
   "metadata": {},
   "outputs": [],
   "source": [
    "speech_filenames = get_wav_files(SPEECH_DATA_PATH)\n",
    "\n",
    "music_filenames = get_wav_files(os.path.join(MUSIC_DATA_PATH, MUSIC_FOLDERS[0]))\n",
    "music_filenames += get_wav_files(os.path.join(MUSIC_DATA_PATH, MUSIC_FOLDERS[1]))\n",
    "music_filenames += get_wav_files(os.path.join(MUSIC_DATA_PATH, MUSIC_FOLDERS[2]))\n",
    "music_filenames += get_wav_files(os.path.join(MUSIC_DATA_PATH, MUSIC_FOLDERS[3]))"
   ]
  },
  {
   "cell_type": "code",
   "execution_count": 20,
   "metadata": {},
   "outputs": [
    {
     "name": "stdout",
     "output_type": "stream",
     "text": []
    }
   ],
   "source": [
    "for i, speech_filename in enumerate(speech_filenames):\n",
    "    print('%i/%i' % (i+1, len(speech_filenames)), end='\\r', flush=True)\n",
    "    signal, _ = librosa.load(speech_filename, sr=SR)\n",
    "       \n",
    "    features = get_features(signal)\n",
    "    labels = get_labels(signal)\n",
    "        \n",
    "    target_filename = os.path.join(TARGET_FOLDER, 'speech', os.path.basename(speech_filename))\n",
    "    np.savez(target_filename, features=features, labels=labels)"
   ]
  },
  {
   "cell_type": "code",
   "execution_count": 17,
   "metadata": {},
   "outputs": [
    {
     "name": "stdout",
     "output_type": "stream",
     "text": []
    }
   ],
   "source": [
    "for i, music_filename in enumerate(music_filenames):\n",
    "    print('%i/%i' % (i+1, len(music_filenames)), end='\\r', flush=True)\n",
    "    signal, _ = librosa.load(music_filename, sr=SR)\n",
    "       \n",
    "    features = get_features(signal)\n",
    "    labels = get_labels(signal)\n",
    "        \n",
    "    target_filename = os.path.join(TARGET_FOLDER, 'music', os.path.basename(music_filename))\n",
    "    np.savez(target_filename, features=features, labels=labels)"
   ]
  },
  {
   "cell_type": "code",
   "execution_count": 4,
   "metadata": {},
   "outputs": [],
   "source": [
    "def get_files(path):\n",
    "    filenames = []\n",
    "    for f in os.listdir(path):\n",
    "        if os.path.isfile(os.path.join(path, f)) and f.endswith('.npz'):\n",
    "            filenames.append(os.path.join(path, f))\n",
    "    \n",
    "    return filenames"
   ]
  },
  {
   "cell_type": "code",
   "execution_count": 5,
   "metadata": {},
   "outputs": [],
   "source": [
    "files = get_files(os.path.join(TARGET_FOLDER, 'noisy_speech'))"
   ]
  },
  {
   "cell_type": "code",
   "execution_count": 7,
   "metadata": {},
   "outputs": [],
   "source": [
    "data = np.load(files[0])['features']"
   ]
  },
  {
   "cell_type": "code",
   "execution_count": 10,
   "metadata": {},
   "outputs": [
    {
     "ename": "KeyboardInterrupt",
     "evalue": "",
     "output_type": "error",
     "traceback": [
      "\u001b[1;31m---------------------------------------------------------------------------\u001b[0m",
      "\u001b[1;31mKeyboardInterrupt\u001b[0m                         Traceback (most recent call last)",
      "\u001b[1;32m<ipython-input-10-71fda683d518>\u001b[0m in \u001b[0;36m<module>\u001b[1;34m()\u001b[0m\n\u001b[0;32m      1\u001b[0m \u001b[1;32mfor\u001b[0m \u001b[0mi\u001b[0m \u001b[1;32min\u001b[0m \u001b[0mrange\u001b[0m\u001b[1;33m(\u001b[0m\u001b[1;36m1\u001b[0m\u001b[1;33m,\u001b[0m \u001b[1;36m100\u001b[0m\u001b[1;33m)\u001b[0m\u001b[1;33m:\u001b[0m\u001b[1;33m\u001b[0m\u001b[0m\n\u001b[0;32m      2\u001b[0m     \u001b[0mnew_data\u001b[0m \u001b[1;33m=\u001b[0m \u001b[0mnp\u001b[0m\u001b[1;33m.\u001b[0m\u001b[0mload\u001b[0m\u001b[1;33m(\u001b[0m\u001b[0mfiles\u001b[0m\u001b[1;33m[\u001b[0m\u001b[0mi\u001b[0m\u001b[1;33m]\u001b[0m\u001b[1;33m)\u001b[0m\u001b[1;33m[\u001b[0m\u001b[1;34m'features'\u001b[0m\u001b[1;33m]\u001b[0m\u001b[1;33m\u001b[0m\u001b[0m\n\u001b[1;32m----> 3\u001b[1;33m     \u001b[0mdata\u001b[0m \u001b[1;33m=\u001b[0m \u001b[0mnp\u001b[0m\u001b[1;33m.\u001b[0m\u001b[0mconcatenate\u001b[0m\u001b[1;33m(\u001b[0m\u001b[1;33m(\u001b[0m\u001b[0mdata\u001b[0m\u001b[1;33m,\u001b[0m \u001b[0mnew_data\u001b[0m\u001b[1;33m)\u001b[0m\u001b[1;33m)\u001b[0m\u001b[1;33m\u001b[0m\u001b[0m\n\u001b[0m",
      "\u001b[1;31mKeyboardInterrupt\u001b[0m: "
     ]
    }
   ],
   "source": [
    "for i in range(1, 100):\n",
    "    new_data = np.load(files[i])['features']\n",
    "    data = np.concatenate((data, new_data))"
   ]
  },
  {
   "cell_type": "code",
   "execution_count": 11,
   "metadata": {},
   "outputs": [
    {
     "data": {
      "text/plain": [
       "(2892535, 100, 14)"
      ]
     },
     "execution_count": 11,
     "metadata": {},
     "output_type": "execute_result"
    }
   ],
   "source": [
    "data.shape"
   ]
  },
  {
   "cell_type": "code",
   "execution_count": 17,
   "metadata": {},
   "outputs": [],
   "source": [
    "mean = np.mean(data, axis=0)\n",
    "std = np.std(data, axis=0)\n",
    "\n",
    "np.savez('mean-std.npz', mean=mean, std=std)"
   ]
  },
  {
   "cell_type": "code",
   "execution_count": 15,
   "metadata": {},
   "outputs": [
    {
     "data": {
      "text/plain": [
       "(100, 14)"
      ]
     },
     "execution_count": 15,
     "metadata": {},
     "output_type": "execute_result"
    }
   ],
   "source": [
    "mean.shape"
   ]
  },
  {
   "cell_type": "code",
   "execution_count": 18,
   "metadata": {},
   "outputs": [
    {
     "data": {
      "text/plain": [
       "dtype('float32')"
      ]
     },
     "execution_count": 18,
     "metadata": {},
     "output_type": "execute_result"
    }
   ],
   "source": [
    "std.dtype"
   ]
  },
  {
   "cell_type": "code",
   "execution_count": null,
   "metadata": {},
   "outputs": [],
   "source": []
  },
  {
   "cell_type": "code",
   "execution_count": null,
   "metadata": {},
   "outputs": [],
   "source": []
  },
  {
   "cell_type": "code",
   "execution_count": null,
   "metadata": {},
   "outputs": [],
   "source": []
  }
 ],
 "metadata": {
  "kernelspec": {
   "display_name": "Python 3",
   "language": "python",
   "name": "python3"
  },
  "language_info": {
   "codemirror_mode": {
    "name": "ipython",
    "version": 3
   },
   "file_extension": ".py",
   "mimetype": "text/x-python",
   "name": "python",
   "nbconvert_exporter": "python",
   "pygments_lexer": "ipython3",
   "version": "3.6.4rc1"
  }
 },
 "nbformat": 4,
 "nbformat_minor": 2
}
