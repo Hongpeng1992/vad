{
 "cells": [
  {
   "cell_type": "code",
   "execution_count": 1,
   "metadata": {},
   "outputs": [],
   "source": [
    "import numpy as np\n",
    "import tensorflow as tf\n",
    "from feedforward_dataset import Dataset"
   ]
  },
  {
   "cell_type": "code",
   "execution_count": null,
   "metadata": {},
   "outputs": [],
   "source": [
    "N_HARM = 14\n",
    "N_HIDDEM = 128"
   ]
  },
  {
   "cell_type": "code",
   "execution_count": null,
   "metadata": {},
   "outputs": [],
   "source": [
    "nnet = tf.layers.conv2d(x, N_HIDDEM, kernel_size=[1, N_HARM], activation=tf.nn.relu, name='Cond2D_1')\n",
    "nnet = tf.layers.conv2d(nnet, 1, kernel_size=[1, 1], activation=None, name='Cond2D_2')\n",
    "logits = tf.reduce_max(nnet[..., 0, 0], axis=1, keep_dims=True)\n",
    "prdiction = tf.nn.sigmoid(logits)"
   ]
  }
 ],
 "metadata": {
  "kernelspec": {
   "display_name": "Python 3",
   "language": "python",
   "name": "python3"
  },
  "language_info": {
   "codemirror_mode": {
    "name": "ipython",
    "version": 3
   },
   "file_extension": ".py",
   "mimetype": "text/x-python",
   "name": "python",
   "nbconvert_exporter": "python",
   "pygments_lexer": "ipython3",
   "version": "3.6.4rc1"
  }
 },
 "nbformat": 4,
 "nbformat_minor": 2
}
